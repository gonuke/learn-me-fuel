{
 "cells": [
  {
   "cell_type": "code",
   "execution_count": 37,
   "metadata": {
    "collapsed": true
   },
   "outputs": [],
   "source": [
    "from training_set import *\n",
    "from sklearn.neighbors import KNeighborsClassifier\n",
    "from sklearn.neighbors import KNeighborsRegressor\n",
    "from sklearn import metrics\n",
    "import numpy as np\n",
    "import pandas as pd\n",
    "import glob\n",
    "import os"
   ]
  },
  {
   "cell_type": "code",
   "execution_count": 41,
   "metadata": {},
   "outputs": [],
   "source": [
    "#filename = train_files[1]\n",
    "#filename"
   ]
  },
  {
   "cell_type": "markdown",
   "metadata": {},
   "source": [
    "# Training Set -> Dataframes"
   ]
  },
  {
   "cell_type": "markdown",
   "metadata": {},
   "source": [
    "### Getting list of files holding training data"
   ]
  },
  {
   "cell_type": "code",
   "execution_count": 42,
   "metadata": {
    "collapsed": true
   },
   "outputs": [],
   "source": [
    "train_files = []\n",
    "#datapath = \"../origen/origen-data/30nov2017_actinides/\"\n",
    "datapath = \"../origen-data/30nov2017_actinides/\"\n",
    "for i in range(0, len(O_RXTRS)):\n",
    "    o_rxtr = O_RXTRS[i]\n",
    "    for j in range(0, len(ENRICH[i])):\n",
    "        enrich = ENRICH[i][j]\n",
    "        rxtrpath = datapath + o_rxtr + \"/\"\n",
    "        #ecsv = o_rxtr + \"_enr\" + str(enrich) + \"_nucs.csv\"\n",
    "        ecsv = o_rxtr + \"_enr\" + str(enrich) + \"_gammas.csv\"\n",
    "        trainpath = os.path.join(rxtrpath, ecsv)\n",
    "        train_files.append(trainpath)"
   ]
  },
  {
   "cell_type": "markdown",
   "metadata": {},
   "source": [
    "### Supporting Functions"
   ]
  },
  {
   "cell_type": "code",
   "execution_count": 74,
   "metadata": {
    "collapsed": true
   },
   "outputs": [],
   "source": [
    "def loop_labels(burnup, cooling):\n",
    "    steps_per_case = len(COOLING_INTERVALS) + 1\n",
    "    burnup_lbl = [0, ]\n",
    "    cooling_lbl = [0, ]\n",
    "    for case in range(0, len(burnup)):\n",
    "        for step in range(0, steps_per_case):\n",
    "            if (step == 0):\n",
    "                burnup_lbl.append(burnup[case])\n",
    "                cooling_lbl.append(0)\n",
    "            else:\n",
    "                burnup_lbl.append(burnup[case])\n",
    "                cooling_lbl.append(COOLING_INTERVALS[step-1])\n",
    "    return burnup_lbl, cooling_lbl\n",
    "\n",
    "def label_data(labels, data):\n",
    "    col = len(data.columns)\n",
    "    burnups, coolings = loop_labels(labels['Burnup'], labels['CoolingInts'])\n",
    "    # inserting 4 labels into columns\n",
    "    data.insert(loc = col, column = 'ReactorType', value = labels['ReactorType'])\n",
    "    data.insert(loc = col+1, column = 'Enrichment', value = labels['Enrichment'])\n",
    "    data.insert(loc = col+2, column = 'Burnup', value = burnups)\n",
    "    data.insert(loc = col+3, column = 'CoolingTime', value = coolings)\n",
    "    return data\n",
    "\n",
    "def format_df(filename):\n",
    "    data = pd.read_csv(filename, header=5, index_col=0).T\n",
    "    data.drop_duplicates(keep='last', inplace=True)\n",
    "    data.drop('subtotal', axis=1, inplace=True)\n",
    "    return data\n",
    "\n",
    "def format_gdf(filename):\n",
    "    time_idx = []\n",
    "    spectrum = []\n",
    "    spectra = []\n",
    "    gamma_bins = ()\n",
    "    with open(filename) as f:\n",
    "        gamma = csv.reader(f, delimiter=',')\n",
    "        i = 1\n",
    "        for row in gamma:\n",
    "            if len(row) > 0:\n",
    "                if i < 6:\n",
    "                    pass\n",
    "                elif i == 6:\n",
    "                    time_idx.append(row[0])\n",
    "                elif row[1]=='days':\n",
    "                    spectra.append(spectrum)\n",
    "                    time_idx.append(row[0])\n",
    "                    spectrum = []\n",
    "                else:\n",
    "                    if i in range(7, 209):\n",
    "                        if (i > 7 and gamma_bins[-1]==row[0]):\n",
    "                            row[0] = row[0] + '.1'\n",
    "                        gamma_bins = gamma_bins + (row[0],)    \n",
    "                    spectrum.append(row[1])\n",
    "                i = i + 1\n",
    "        spectra.append(spectrum)\n",
    "    data = pd.DataFrame(spectra, index=time_idx, columns=gamma_bins)\n",
    "    data.drop_duplicates(keep='last', inplace=True)\n",
    "    return data"
   ]
  },
  {
   "cell_type": "code",
   "execution_count": null,
   "metadata": {},
   "outputs": [],
   "source": []
  },
  {
   "cell_type": "code",
   "execution_count": null,
   "metadata": {},
   "outputs": [],
   "source": []
  },
  {
   "cell_type": "markdown",
   "metadata": {},
   "source": [
    "### Main formatting function"
   ]
  },
  {
   "cell_type": "code",
   "execution_count": 85,
   "metadata": {},
   "outputs": [],
   "source": [
    "def dataframeXY(all_files):\n",
    "    all_data = []\n",
    "    for f in all_files:\n",
    "        idx = all_files.index(f)\n",
    "        #data = format_df(f)\n",
    "        data = format_gdf(f)\n",
    "        labels = {'ReactorType': TRAIN_LABELS['ReactorType'][idx],\n",
    "                  #'OrigenReactor': TRAIN_LABELS['OrigenReactor'][idx],\n",
    "                  'Enrichment': TRAIN_LABELS['Enrichment'][idx], \n",
    "                  'Burnup': TRAIN_LABELS['Burnup'][idx], \n",
    "                  'CoolingInts': COOLING_INTERVALS\n",
    "                  }\n",
    "        labeled = label_data(labels, data)\n",
    "        all_data.append(labeled)\n",
    "    dfXY = pd.concat(all_data)\n",
    "    dfXY.fillna(value=0, inplace=True)\n",
    "    return dfXY\n",
    "trainXY = dataframeXY(train_files)"
   ]
  },
  {
   "cell_type": "code",
   "execution_count": 76,
   "metadata": {},
   "outputs": [
    {
     "data": {
      "text/plain": [
       "(9779, 206)"
      ]
     },
     "execution_count": 76,
     "metadata": {},
     "output_type": "execute_result"
    }
   ],
   "source": [
    "trainXY.shape"
   ]
  },
  {
   "cell_type": "code",
   "execution_count": null,
   "metadata": {
    "collapsed": true
   },
   "outputs": [],
   "source": []
  },
  {
   "cell_type": "markdown",
   "metadata": {
    "collapsed": true
   },
   "source": [
    "### Split into different Y's for separate ML models"
   ]
  },
  {
   "cell_type": "code",
   "execution_count": 86,
   "metadata": {
    "collapsed": true
   },
   "outputs": [],
   "source": [
    "def splitXY(dfXY):\n",
    "    lbls = ['ReactorType', 'CoolingTime', 'Enrichment', 'Burnup']\n",
    "    dfX = dfXY.drop(lbls, axis=1)\n",
    "    r_dfY = dfXY.loc[:, lbls[0]]\n",
    "    c_dfY = dfXY.loc[:, lbls[1]]\n",
    "    e_dfY = dfXY.loc[:, lbls[2]]\n",
    "    b_dfY = dfXY.loc[:, lbls[3]]\n",
    "    return dfX, r_dfY, c_dfY, e_dfY, b_dfY"
   ]
  },
  {
   "cell_type": "code",
   "execution_count": 87,
   "metadata": {},
   "outputs": [],
   "source": [
    "trainX, rY, cY, eY, bY = splitXY(trainXY)"
   ]
  },
  {
   "cell_type": "code",
   "execution_count": 88,
   "metadata": {},
   "outputs": [
    {
     "data": {
      "text/html": [
       "<div>\n",
       "<style>\n",
       "    .dataframe thead tr:only-child th {\n",
       "        text-align: right;\n",
       "    }\n",
       "\n",
       "    .dataframe thead th {\n",
       "        text-align: left;\n",
       "    }\n",
       "\n",
       "    .dataframe tbody tr th {\n",
       "        vertical-align: top;\n",
       "    }\n",
       "</style>\n",
       "<table border=\"1\" class=\"dataframe\">\n",
       "  <thead>\n",
       "    <tr style=\"text-align: right;\">\n",
       "      <th></th>\n",
       "      <th>1.000e-11</th>\n",
       "      <th>1.315e-11</th>\n",
       "      <th>1.315e-11.1</th>\n",
       "      <th>1.728e-11</th>\n",
       "      <th>1.728e-11.1</th>\n",
       "      <th>2.272e-11</th>\n",
       "      <th>2.272e-11.1</th>\n",
       "      <th>2.987e-11</th>\n",
       "      <th>2.987e-11.1</th>\n",
       "      <th>3.927e-11</th>\n",
       "      <th>...</th>\n",
       "      <th>2.546e+00.1</th>\n",
       "      <th>3.348e+00</th>\n",
       "      <th>3.348e+00.1</th>\n",
       "      <th>4.401e+00</th>\n",
       "      <th>4.401e+00.1</th>\n",
       "      <th>5.786e+00</th>\n",
       "      <th>5.786e+00.1</th>\n",
       "      <th>7.607e+00</th>\n",
       "      <th>7.607e+00.1</th>\n",
       "      <th>1.000e+01</th>\n",
       "    </tr>\n",
       "  </thead>\n",
       "  <tbody>\n",
       "    <tr>\n",
       "      <th>0</th>\n",
       "      <td>0.000e+00</td>\n",
       "      <td>0.000e+00</td>\n",
       "      <td>0.000e+00</td>\n",
       "      <td>0.000e+00</td>\n",
       "      <td>0.000e+00</td>\n",
       "      <td>0.000e+00</td>\n",
       "      <td>0.000e+00</td>\n",
       "      <td>0.000e+00</td>\n",
       "      <td>0.000e+00</td>\n",
       "      <td>0.000e+00</td>\n",
       "      <td>...</td>\n",
       "      <td>4.807e+03</td>\n",
       "      <td>4.807e+03</td>\n",
       "      <td>1.731e+03</td>\n",
       "      <td>1.731e+03</td>\n",
       "      <td>4.836e+02</td>\n",
       "      <td>4.836e+02</td>\n",
       "      <td>8.717e+01</td>\n",
       "      <td>8.717e+01</td>\n",
       "      <td>1.005e+01</td>\n",
       "      <td>1.005e+01</td>\n",
       "    </tr>\n",
       "    <tr>\n",
       "      <th>1.000e+02</th>\n",
       "      <td>0.000e+00</td>\n",
       "      <td>0.000e+00</td>\n",
       "      <td>0.000e+00</td>\n",
       "      <td>0.000e+00</td>\n",
       "      <td>0.000e+00</td>\n",
       "      <td>0.000e+00</td>\n",
       "      <td>0.000e+00</td>\n",
       "      <td>0.000e+00</td>\n",
       "      <td>0.000e+00</td>\n",
       "      <td>0.000e+00</td>\n",
       "      <td>...</td>\n",
       "      <td>7.859e+16</td>\n",
       "      <td>7.859e+16</td>\n",
       "      <td>3.147e+16</td>\n",
       "      <td>3.147e+16</td>\n",
       "      <td>3.250e+15</td>\n",
       "      <td>3.250e+15</td>\n",
       "      <td>1.117e+14</td>\n",
       "      <td>1.117e+14</td>\n",
       "      <td>1.711e+09</td>\n",
       "      <td>1.711e+09</td>\n",
       "    </tr>\n",
       "    <tr>\n",
       "      <th>1.070e+02</th>\n",
       "      <td>0.000e+00</td>\n",
       "      <td>0.000e+00</td>\n",
       "      <td>0.000e+00</td>\n",
       "      <td>0.000e+00</td>\n",
       "      <td>0.000e+00</td>\n",
       "      <td>0.000e+00</td>\n",
       "      <td>0.000e+00</td>\n",
       "      <td>0.000e+00</td>\n",
       "      <td>0.000e+00</td>\n",
       "      <td>0.000e+00</td>\n",
       "      <td>...</td>\n",
       "      <td>1.119e+14</td>\n",
       "      <td>1.119e+14</td>\n",
       "      <td>5.100e+09</td>\n",
       "      <td>5.100e+09</td>\n",
       "      <td>4.121e+03</td>\n",
       "      <td>4.121e+03</td>\n",
       "      <td>7.367e+02</td>\n",
       "      <td>7.367e+02</td>\n",
       "      <td>8.435e+01</td>\n",
       "      <td>8.435e+01</td>\n",
       "    </tr>\n",
       "    <tr>\n",
       "      <th>1.300e+02</th>\n",
       "      <td>0.000e+00</td>\n",
       "      <td>0.000e+00</td>\n",
       "      <td>0.000e+00</td>\n",
       "      <td>0.000e+00</td>\n",
       "      <td>0.000e+00</td>\n",
       "      <td>0.000e+00</td>\n",
       "      <td>0.000e+00</td>\n",
       "      <td>0.000e+00</td>\n",
       "      <td>0.000e+00</td>\n",
       "      <td>0.000e+00</td>\n",
       "      <td>...</td>\n",
       "      <td>3.291e+13</td>\n",
       "      <td>3.291e+13</td>\n",
       "      <td>4.831e+09</td>\n",
       "      <td>4.831e+09</td>\n",
       "      <td>4.053e+03</td>\n",
       "      <td>4.053e+03</td>\n",
       "      <td>7.244e+02</td>\n",
       "      <td>7.244e+02</td>\n",
       "      <td>8.293e+01</td>\n",
       "      <td>8.293e+01</td>\n",
       "    </tr>\n",
       "    <tr>\n",
       "      <th>4.653e+02</th>\n",
       "      <td>0.000e+00</td>\n",
       "      <td>0.000e+00</td>\n",
       "      <td>0.000e+00</td>\n",
       "      <td>0.000e+00</td>\n",
       "      <td>0.000e+00</td>\n",
       "      <td>0.000e+00</td>\n",
       "      <td>0.000e+00</td>\n",
       "      <td>0.000e+00</td>\n",
       "      <td>0.000e+00</td>\n",
       "      <td>0.000e+00</td>\n",
       "      <td>...</td>\n",
       "      <td>6.316e+11</td>\n",
       "      <td>6.316e+11</td>\n",
       "      <td>2.585e+09</td>\n",
       "      <td>2.585e+09</td>\n",
       "      <td>3.545e+03</td>\n",
       "      <td>3.545e+03</td>\n",
       "      <td>6.328e+02</td>\n",
       "      <td>6.328e+02</td>\n",
       "      <td>7.237e+01</td>\n",
       "      <td>7.237e+01</td>\n",
       "    </tr>\n",
       "  </tbody>\n",
       "</table>\n",
       "<p>5 rows × 202 columns</p>\n",
       "</div>"
      ],
      "text/plain": [
       "           1.000e-11  1.315e-11 1.315e-11.1  1.728e-11 1.728e-11.1  2.272e-11  \\\n",
       "0          0.000e+00  0.000e+00   0.000e+00  0.000e+00   0.000e+00  0.000e+00   \n",
       "1.000e+02  0.000e+00  0.000e+00   0.000e+00  0.000e+00   0.000e+00  0.000e+00   \n",
       "1.070e+02  0.000e+00  0.000e+00   0.000e+00  0.000e+00   0.000e+00  0.000e+00   \n",
       "1.300e+02  0.000e+00  0.000e+00   0.000e+00  0.000e+00   0.000e+00  0.000e+00   \n",
       "4.653e+02  0.000e+00  0.000e+00   0.000e+00  0.000e+00   0.000e+00  0.000e+00   \n",
       "\n",
       "          2.272e-11.1  2.987e-11 2.987e-11.1  3.927e-11    ...      \\\n",
       "0           0.000e+00  0.000e+00   0.000e+00  0.000e+00    ...       \n",
       "1.000e+02   0.000e+00  0.000e+00   0.000e+00  0.000e+00    ...       \n",
       "1.070e+02   0.000e+00  0.000e+00   0.000e+00  0.000e+00    ...       \n",
       "1.300e+02   0.000e+00  0.000e+00   0.000e+00  0.000e+00    ...       \n",
       "4.653e+02   0.000e+00  0.000e+00   0.000e+00  0.000e+00    ...       \n",
       "\n",
       "          2.546e+00.1  3.348e+00 3.348e+00.1  4.401e+00 4.401e+00.1  \\\n",
       "0           4.807e+03  4.807e+03   1.731e+03  1.731e+03   4.836e+02   \n",
       "1.000e+02   7.859e+16  7.859e+16   3.147e+16  3.147e+16   3.250e+15   \n",
       "1.070e+02   1.119e+14  1.119e+14   5.100e+09  5.100e+09   4.121e+03   \n",
       "1.300e+02   3.291e+13  3.291e+13   4.831e+09  4.831e+09   4.053e+03   \n",
       "4.653e+02   6.316e+11  6.316e+11   2.585e+09  2.585e+09   3.545e+03   \n",
       "\n",
       "           5.786e+00 5.786e+00.1  7.607e+00 7.607e+00.1  1.000e+01  \n",
       "0          4.836e+02   8.717e+01  8.717e+01   1.005e+01  1.005e+01  \n",
       "1.000e+02  3.250e+15   1.117e+14  1.117e+14   1.711e+09  1.711e+09  \n",
       "1.070e+02  4.121e+03   7.367e+02  7.367e+02   8.435e+01  8.435e+01  \n",
       "1.300e+02  4.053e+03   7.244e+02  7.244e+02   8.293e+01  8.293e+01  \n",
       "4.653e+02  3.545e+03   6.328e+02  6.328e+02   7.237e+01  7.237e+01  \n",
       "\n",
       "[5 rows x 202 columns]"
      ]
     },
     "execution_count": 88,
     "metadata": {},
     "output_type": "execute_result"
    }
   ],
   "source": [
    "trainX.head()"
   ]
  },
  {
   "cell_type": "code",
   "execution_count": 83,
   "metadata": {
    "collapsed": true
   },
   "outputs": [],
   "source": [
    "from sklearn.neighbors import KNeighborsClassifier\n",
    "from sklearn.neighbors import KNeighborsRegressor\n",
    "from sklearn.preprocessing import scale\n",
    "from sklearn.model_selection import cross_val_predict\n",
    "from sklearn import metrics\n",
    "import numpy as np\n",
    "import pandas as pd"
   ]
  },
  {
   "cell_type": "code",
   "execution_count": 89,
   "metadata": {},
   "outputs": [],
   "source": [
    "trainX = scale(trainX, with_mean=False)"
   ]
  },
  {
   "cell_type": "code",
   "execution_count": null,
   "metadata": {
    "collapsed": true
   },
   "outputs": [],
   "source": []
  },
  {
   "cell_type": "code",
   "execution_count": 90,
   "metadata": {},
   "outputs": [
    {
     "name": "stdout",
     "output_type": "stream",
     "text": [
      "             precision    recall  f1-score   support\n",
      "\n",
      "        bwr       0.99      0.99      0.99      4572\n",
      "       phwr       1.00      0.88      0.94       381\n",
      "        pwr       0.99      1.00      0.99      4826\n",
      "\n",
      "avg / total       0.99      0.99      0.99      9779\n",
      "\n",
      "             precision    recall  f1-score   support\n",
      "\n",
      "        bwr       0.99      0.99      0.99      4572\n",
      "       phwr       1.00      0.90      0.95       381\n",
      "        pwr       0.99      1.00      0.99      4826\n",
      "\n",
      "avg / total       0.99      0.99      0.99      9779\n",
      "\n"
     ]
    }
   ],
   "source": [
    "# Reactor Type\n",
    "# L1 norm is Manhattan Distance\n",
    "# L2 norm is Euclidian Distance \n",
    "l1knc = KNeighborsClassifier(metric='l1', p=1)\n",
    "l2knc = KNeighborsClassifier(metric='l2', p=2)\n",
    "l1knc_pred = cross_val_predict(l1knc, trainX, rY, cv=10)\n",
    "l2knc_pred = cross_val_predict(l2knc, trainX, rY, cv=10)\n",
    "# Accuracy\n",
    "print(metrics.classification_report(rY, l1knc_pred))\n",
    "print(metrics.classification_report(rY, l2knc_pred))"
   ]
  },
  {
   "cell_type": "code",
   "execution_count": 91,
   "metadata": {},
   "outputs": [
    {
     "name": "stdout",
     "output_type": "stream",
     "text": [
      "0.239846734934\n",
      "0.268509084868\n",
      "0.87083113315\n",
      "0.854826358701\n"
     ]
    }
   ],
   "source": [
    "# Enrichment\n",
    "el1knr = KNeighborsRegressor(metric='l1', p=1)\n",
    "el2knr = KNeighborsRegressor(metric='l2', p=2)\n",
    "el1knr_pred = cross_val_predict(el1knr, trainX, eY, cv=10)\n",
    "el2knr_pred = cross_val_predict(el2knr, trainX, eY, cv=10)\n",
    "print(metrics.mean_squared_error(eY, el1knr_pred))\n",
    "print(metrics.mean_squared_error(eY, el2knr_pred))\n",
    "print(metrics.explained_variance_score(eY, el1knr_pred))\n",
    "print(metrics.explained_variance_score(eY, el2knr_pred))"
   ]
  },
  {
   "cell_type": "code",
   "execution_count": 92,
   "metadata": {},
   "outputs": [
    {
     "name": "stdout",
     "output_type": "stream",
     "text": [
      "5441.71460826\n",
      "4560.70909032\n",
      "0.992141072627\n",
      "0.993413150323\n"
     ]
    }
   ],
   "source": [
    "# Cooling Time\n",
    "cl1knr = KNeighborsRegressor(metric='l1', p=1)\n",
    "cl2knr = KNeighborsRegressor(metric='l2', p=2)\n",
    "cl1knr_pred = cross_val_predict(cl1knr, trainX, cY, cv=10)\n",
    "cl2knr_pred = cross_val_predict(cl2knr, trainX, cY, cv=10)\n",
    "print(metrics.mean_squared_error(cY, cl1knr_pred))\n",
    "print(metrics.mean_squared_error(cY, cl2knr_pred))\n",
    "print(metrics.explained_variance_score(cY, cl1knr_pred))\n",
    "print(metrics.explained_variance_score(cY, cl2knr_pred))"
   ]
  },
  {
   "cell_type": "code",
   "execution_count": 93,
   "metadata": {},
   "outputs": [
    {
     "name": "stdout",
     "output_type": "stream",
     "text": [
      "27671363.1251\n",
      "27925438.1839\n",
      "0.920394908355\n",
      "0.919651817902\n"
     ]
    }
   ],
   "source": [
    "# Burnup\n",
    "bl1knr = KNeighborsRegressor(metric='l1', p=1)\n",
    "bl2knr = KNeighborsRegressor(metric='l2', p=2)\n",
    "bl1knr_pred = cross_val_predict(bl1knr, trainX, bY, cv=10)\n",
    "bl2knr_pred = cross_val_predict(bl2knr, trainX, bY, cv=10)\n",
    "print(metrics.mean_squared_error(bY, bl1knr_pred))\n",
    "print(metrics.mean_squared_error(bY, bl2knr_pred))\n",
    "print(metrics.explained_variance_score(bY, bl1knr_pred))\n",
    "print(metrics.explained_variance_score(bY, bl2knr_pred))"
   ]
  },
  {
   "cell_type": "code",
   "execution_count": null,
   "metadata": {
    "collapsed": true
   },
   "outputs": [],
   "source": []
  }
 ],
 "metadata": {
  "kernelspec": {
   "display_name": "Python 3",
   "language": "python",
   "name": "python3"
  },
  "language_info": {
   "codemirror_mode": {
    "name": "ipython",
    "version": 3
   },
   "file_extension": ".py",
   "mimetype": "text/x-python",
   "name": "python",
   "nbconvert_exporter": "python",
   "pygments_lexer": "ipython3",
   "version": "3.6.3"
  }
 },
 "nbformat": 4,
 "nbformat_minor": 1
}
