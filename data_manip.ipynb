{
 "cells": [
  {
   "cell_type": "code",
   "execution_count": 9,
   "metadata": {
    "collapsed": true
   },
   "outputs": [],
   "source": [
    "from training_set import *\n",
    "from sklearn.neighbors import KNeighborsClassifier\n",
    "from sklearn.neighbors import KNeighborsRegressor\n",
    "from sklearn import metrics\n",
    "import numpy as np\n",
    "import pandas as pd\n",
    "import glob\n",
    "import os\n",
    "import posixpath"
   ]
  },
  {
   "cell_type": "code",
   "execution_count": null,
   "metadata": {},
   "outputs": [],
   "source": []
  },
  {
   "cell_type": "markdown",
   "metadata": {},
   "source": [
    "# Training Set -> Dataframes"
   ]
  },
  {
   "cell_type": "code",
   "execution_count": 2,
   "metadata": {
    "collapsed": true
   },
   "outputs": [],
   "source": [
    "def format_df(filename):\n",
    "    data = pd.read_csv(filename).T\n",
    "    data.columns = data.iloc[0]\n",
    "    data.drop(data.index[0], inplace=True)\n",
    "    return data\n",
    "\n",
    "def get_labels(filename, rxtrs):\n",
    "    tail, _ = os.path.splitext(os.path.basename(filename))\n",
    "    i = rxtrs['OrigenReactor'].index(tail)\n",
    "    rxtr_info = {'ReactorType': rxtrs['ReactorType'][i], \n",
    "                 'Enrichment': rxtrs['Enrichment'][i], \n",
    "                 'Burnup': rxtrs['Burnup'][i], \n",
    "                 'CoolingInts': rxtrs['CoolingInts'][i]\n",
    "                 }\n",
    "    return rxtr_info\n",
    "\n",
    "def label_data(label, data):\n",
    "    col = len(data.columns)\n",
    "    data.insert(loc = col, column = 'ReactorType', value = label['ReactorType'])\n",
    "    data.insert(loc = col+1, column = 'Enrichment', value = label['Enrichment'])\n",
    "    burnup = burnup_label(data, label['Burnup'], label['CoolingInts'])\n",
    "    data.insert(loc = col+2, column = 'Burnup', value = burnup)\n",
    "    return data\n",
    "\n",
    "def burnup_label(data, burn_steps, cooling_ints):\n",
    "    num_cases = len(burn_steps)\n",
    "    steps_per_case = len(cooling_ints) + 2\n",
    "    burnup_list = [0, ]\n",
    "    for case in range(0, num_cases):\n",
    "        for step in range(0, steps_per_case):\n",
    "            if (case == 0 and step == 0):\n",
    "                continue\n",
    "            elif (case > 0 and step == 0):\n",
    "                burn_step = burn_steps[case-1]\n",
    "                burnup_list.append(burn_step)\n",
    "            else:\n",
    "                burn_step = burn_steps[case]\n",
    "                burnup_list.append(burn_step)\n",
    "    return burnup_list\n",
    "\n",
    "def dataframeXY(all_files, rxtr_label):\n",
    "    all_data = []\n",
    "    for f in all_files:\n",
    "        data = format_df(f)\n",
    "        labels = get_labels(f, rxtr_label)\n",
    "        labeled = label_data(labels, data)\n",
    "        all_data.append(labeled)\n",
    "    dfXY = pd.concat(all_data)\n",
    "    return dfXY\n",
    "\n",
    "def splitXY(dfXY):\n",
    "    x = len(dfXY.columns)-3\n",
    "    y = x\n",
    "    # Need better way to know when the nuclide columns start (6 for now)\n",
    "    # Prob will just search for column idx that starts with str(1)?\n",
    "    dfX = dfXY.iloc[:, 6:x]\n",
    "    r_dfY = dfXY.iloc[:, y]\n",
    "    e_dfY = dfXY.iloc[:, y+1]\n",
    "    b_dfY = dfXY.iloc[:, y+2]\n",
    "    return dfX, r_dfY, e_dfY, b_dfY"
   ]
  },
  {
   "cell_type": "code",
   "execution_count": 31,
   "metadata": {},
   "outputs": [],
   "source": [
    "train_files = []\n",
    "nucfiles = ['0', '2', '4', '6'] \n",
    "#gammafiles = ['1', '3', '5', '7']\n",
    "datapath = \"../origen-data/14nov2017_actinides/\"\n",
    "for o_rxtr in O_RXTRS:\n",
    "    for enrich in nucfiles:\n",
    "        enrichment = o_rxtr + \"/*\" + enrich + \".plt\"\n",
    "        trainpath = os.path.join(datapath, enrichment)\n",
    "        train_files += glob.glob(trainpath)\n",
    "train_files = [f.replace(\"\\\\\", \"/\") for f in train_files]"
   ]
  },
  {
   "cell_type": "code",
   "execution_count": null,
   "metadata": {
    "collapsed": true
   },
   "outputs": [],
   "source": [
    "trainXY = dataframeXY(train_files, train_label)"
   ]
  },
  {
   "cell_type": "code",
   "execution_count": null,
   "metadata": {
    "collapsed": true
   },
   "outputs": [],
   "source": [
    "trainXY.reset_index(inplace=True)\n",
    "trainX, r_trainY, e_trainY, b_trainY = splitXY(trainXY)"
   ]
  },
  {
   "cell_type": "code",
   "execution_count": null,
   "metadata": {
    "collapsed": true
   },
   "outputs": [],
   "source": []
  },
  {
   "cell_type": "code",
   "execution_count": null,
   "metadata": {
    "collapsed": true
   },
   "outputs": [],
   "source": []
  }
 ],
 "metadata": {
  "kernelspec": {
   "display_name": "Python 3",
   "language": "python",
   "name": "python3"
  }
 },
 "nbformat": 4,
 "nbformat_minor": 1
}
