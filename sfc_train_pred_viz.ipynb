{
 "cells": [
  {
   "cell_type": "code",
   "execution_count": 4,
   "metadata": {},
   "outputs": [],
   "source": [
    "import pandas as pd\n",
    "import numpy as np\n",
    "import matplotlib as mpl\n",
    "import matplotlib.pyplot as plt\n",
    "import seaborn as sns\n",
    "from mpl_toolkits.axes_grid1 import make_axes_locatable\n",
    "%matplotlib inline "
   ]
  },
  {
   "cell_type": "markdown",
   "metadata": {},
   "source": [
    "## Notes from viz lectures\n",
    "\n",
    "### Simplification\n",
    "* Figure out consolidation schemes--ratios might be useful for rxtr params\n",
    "* Exclude or dim unimportant data\n",
    "\n",
    "### Headings for training set viz\n",
    "* Goal for i.i.d. training set accomplished / not accomplished\n",
    "* Certain locations in training set space difficult to predict OR error higher in certain locations in training set space\n",
    "* Natural uranium not reliably predicted by any algorithm\n",
    "* Complex models predict x parameters better than simple models (or vice versa)"
   ]
  },
  {
   "cell_type": "code",
   "execution_count": 5,
   "metadata": {},
   "outputs": [],
   "source": [
    "# color dict (use: colors['XColor'])\n",
    "\n",
    "colors = {'DBrwn' : '#8c510a', 'MBrwn' : '#d8b365', 'LBrwn' : '#f6e8c3',\n",
    "          'DTeal' : '#01665e', 'MTeal' : '#5ab4ac', 'LTeal' : '#c7eae5',\n",
    "          'DPurp' : '#762a83', 'MPurp' : '#af8dc3', 'LPurp' : '#e7d4e8'\n",
    "         }\n",
    "# set params\n",
    "# save as .mplstyle file and import with: plt.style.use('file')\n",
    "#mpl.rcParams['lines.linewidth'] = 2\n",
    "#mpl.rcParams['lines.color'] = 'r'"
   ]
  },
  {
   "cell_type": "markdown",
   "metadata": {},
   "source": [
    "## Predictions"
   ]
  },
  {
   "cell_type": "code",
   "execution_count": 24,
   "metadata": {},
   "outputs": [
    {
     "data": {
      "text/plain": [
       "Index(['Instance', 'Ridge', 'SVR', 'TrueY', 'kNN'], dtype='object')"
      ]
     },
     "execution_count": 24,
     "metadata": {},
     "output_type": "execute_result"
    }
   ],
   "source": [
    "rxtr = pd.read_csv('results/28march2018/sfcompo_fiss_reactor_predictions.csv').rename(columns = {'Unnamed: 0':'Instance'})\n",
    "# MWd/MTU\n",
    "burn = pd.read_csv('results/28march2018/sfcompo_fiss_burnup_predictions.csv').rename(columns = {'Unnamed: 0':'Instance'})\n",
    "# %u235\n",
    "enri = pd.read_csv('results/28march2018/sfcompo_fiss_enrichment_predictions.csv').rename(columns = {'Unnamed: 0':'Instance'})\n",
    "# days\n",
    "cool = pd.read_csv('results/28march2018/sfcompo_fiss_cooling_predictions.csv').rename(columns = {'Unnamed: 0':'Instance'})\n",
    "\n",
    "rxtr.columns"
   ]
  },
  {
   "cell_type": "markdown",
   "metadata": {},
   "source": [
    "## Scores"
   ]
  },
  {
   "cell_type": "code",
   "execution_count": 30,
   "metadata": {},
   "outputs": [
    {
     "name": "stdout",
     "output_type": "stream",
     "text": [
      "Index(['CV_fold', 'fit_time', 'score_time', 'test_accuracy', 'algorithm'], dtype='object')\n",
      "\n",
      "\n",
      "Index(['CV_fold', 'fit_time', 'score_time', 'test_explained_variance',\n",
      "       'test_neg_mean_absolute_error', 'test_neg_mean_squared_error',\n",
      "       'test_r2', 'test_neg_rmse', 'algorithm'],\n",
      "      dtype='object')\n"
     ]
    },
    {
     "data": {
      "text/html": [
       "<div>\n",
       "<style scoped>\n",
       "    .dataframe tbody tr th:only-of-type {\n",
       "        vertical-align: middle;\n",
       "    }\n",
       "\n",
       "    .dataframe tbody tr th {\n",
       "        vertical-align: top;\n",
       "    }\n",
       "\n",
       "    .dataframe thead th {\n",
       "        text-align: right;\n",
       "    }\n",
       "</style>\n",
       "<table border=\"1\" class=\"dataframe\">\n",
       "  <thead>\n",
       "    <tr style=\"text-align: right;\">\n",
       "      <th></th>\n",
       "      <th>CV_fold</th>\n",
       "      <th>fit_time</th>\n",
       "      <th>score_time</th>\n",
       "      <th>test_explained_variance</th>\n",
       "      <th>test_neg_mean_absolute_error</th>\n",
       "      <th>test_neg_mean_squared_error</th>\n",
       "      <th>test_r2</th>\n",
       "      <th>test_neg_rmse</th>\n",
       "      <th>algorithm</th>\n",
       "    </tr>\n",
       "  </thead>\n",
       "  <tbody>\n",
       "    <tr>\n",
       "      <th>0</th>\n",
       "      <td>0</td>\n",
       "      <td>0.137514</td>\n",
       "      <td>1.137567</td>\n",
       "      <td>0.999251</td>\n",
       "      <td>-6.490993</td>\n",
       "      <td>-550.655799</td>\n",
       "      <td>0.999205</td>\n",
       "      <td>-23.466056</td>\n",
       "      <td>knn</td>\n",
       "    </tr>\n",
       "    <tr>\n",
       "      <th>1</th>\n",
       "      <td>1</td>\n",
       "      <td>0.137896</td>\n",
       "      <td>1.136452</td>\n",
       "      <td>0.999253</td>\n",
       "      <td>-5.917281</td>\n",
       "      <td>-567.826647</td>\n",
       "      <td>0.999211</td>\n",
       "      <td>-23.829113</td>\n",
       "      <td>knn</td>\n",
       "    </tr>\n",
       "    <tr>\n",
       "      <th>2</th>\n",
       "      <td>2</td>\n",
       "      <td>0.137427</td>\n",
       "      <td>1.161131</td>\n",
       "      <td>0.999353</td>\n",
       "      <td>-5.678863</td>\n",
       "      <td>-450.903183</td>\n",
       "      <td>0.999316</td>\n",
       "      <td>-21.234481</td>\n",
       "      <td>knn</td>\n",
       "    </tr>\n",
       "    <tr>\n",
       "      <th>3</th>\n",
       "      <td>3</td>\n",
       "      <td>0.137265</td>\n",
       "      <td>1.126671</td>\n",
       "      <td>0.999031</td>\n",
       "      <td>-6.409396</td>\n",
       "      <td>-680.338015</td>\n",
       "      <td>0.998978</td>\n",
       "      <td>-26.083290</td>\n",
       "      <td>knn</td>\n",
       "    </tr>\n",
       "    <tr>\n",
       "      <th>4</th>\n",
       "      <td>4</td>\n",
       "      <td>0.137094</td>\n",
       "      <td>1.185698</td>\n",
       "      <td>0.999460</td>\n",
       "      <td>-5.443796</td>\n",
       "      <td>-414.300897</td>\n",
       "      <td>0.999426</td>\n",
       "      <td>-20.354383</td>\n",
       "      <td>knn</td>\n",
       "    </tr>\n",
       "    <tr>\n",
       "      <th>5</th>\n",
       "      <td>0</td>\n",
       "      <td>0.017263</td>\n",
       "      <td>0.002099</td>\n",
       "      <td>0.793863</td>\n",
       "      <td>-251.384983</td>\n",
       "      <td>-135205.087445</td>\n",
       "      <td>0.793653</td>\n",
       "      <td>-367.702444</td>\n",
       "      <td>rr</td>\n",
       "    </tr>\n",
       "    <tr>\n",
       "      <th>6</th>\n",
       "      <td>1</td>\n",
       "      <td>0.009887</td>\n",
       "      <td>0.002021</td>\n",
       "      <td>0.771980</td>\n",
       "      <td>-273.255224</td>\n",
       "      <td>-167055.407505</td>\n",
       "      <td>0.771441</td>\n",
       "      <td>-408.724122</td>\n",
       "      <td>rr</td>\n",
       "    </tr>\n",
       "    <tr>\n",
       "      <th>7</th>\n",
       "      <td>2</td>\n",
       "      <td>0.009873</td>\n",
       "      <td>0.002095</td>\n",
       "      <td>0.777843</td>\n",
       "      <td>-278.563280</td>\n",
       "      <td>-169700.397728</td>\n",
       "      <td>0.776966</td>\n",
       "      <td>-411.947081</td>\n",
       "      <td>rr</td>\n",
       "    </tr>\n",
       "    <tr>\n",
       "      <th>8</th>\n",
       "      <td>3</td>\n",
       "      <td>0.009882</td>\n",
       "      <td>0.002055</td>\n",
       "      <td>0.800505</td>\n",
       "      <td>-249.384594</td>\n",
       "      <td>-128465.597209</td>\n",
       "      <td>0.799563</td>\n",
       "      <td>-358.420978</td>\n",
       "      <td>rr</td>\n",
       "    </tr>\n",
       "    <tr>\n",
       "      <th>9</th>\n",
       "      <td>4</td>\n",
       "      <td>0.010991</td>\n",
       "      <td>0.002639</td>\n",
       "      <td>0.772514</td>\n",
       "      <td>-263.481382</td>\n",
       "      <td>-152126.795507</td>\n",
       "      <td>0.772402</td>\n",
       "      <td>-390.034352</td>\n",
       "      <td>rr</td>\n",
       "    </tr>\n",
       "    <tr>\n",
       "      <th>10</th>\n",
       "      <td>0</td>\n",
       "      <td>15.758953</td>\n",
       "      <td>6.759673</td>\n",
       "      <td>0.847898</td>\n",
       "      <td>-123.475502</td>\n",
       "      <td>-118253.072312</td>\n",
       "      <td>0.836031</td>\n",
       "      <td>-343.879444</td>\n",
       "      <td>svr</td>\n",
       "    </tr>\n",
       "    <tr>\n",
       "      <th>11</th>\n",
       "      <td>1</td>\n",
       "      <td>14.199242</td>\n",
       "      <td>6.626839</td>\n",
       "      <td>0.859296</td>\n",
       "      <td>-106.047501</td>\n",
       "      <td>-96167.982889</td>\n",
       "      <td>0.851206</td>\n",
       "      <td>-310.109630</td>\n",
       "      <td>svr</td>\n",
       "    </tr>\n",
       "    <tr>\n",
       "      <th>12</th>\n",
       "      <td>2</td>\n",
       "      <td>14.513353</td>\n",
       "      <td>6.598616</td>\n",
       "      <td>0.849811</td>\n",
       "      <td>-121.278716</td>\n",
       "      <td>-113836.635778</td>\n",
       "      <td>0.838365</td>\n",
       "      <td>-337.396852</td>\n",
       "      <td>svr</td>\n",
       "    </tr>\n",
       "    <tr>\n",
       "      <th>13</th>\n",
       "      <td>3</td>\n",
       "      <td>14.516796</td>\n",
       "      <td>6.594070</td>\n",
       "      <td>0.858592</td>\n",
       "      <td>-117.713322</td>\n",
       "      <td>-105258.643628</td>\n",
       "      <td>0.849189</td>\n",
       "      <td>-324.435885</td>\n",
       "      <td>svr</td>\n",
       "    </tr>\n",
       "    <tr>\n",
       "      <th>14</th>\n",
       "      <td>4</td>\n",
       "      <td>14.971270</td>\n",
       "      <td>6.585490</td>\n",
       "      <td>0.862198</td>\n",
       "      <td>-113.378562</td>\n",
       "      <td>-102017.063320</td>\n",
       "      <td>0.852282</td>\n",
       "      <td>-319.401101</td>\n",
       "      <td>svr</td>\n",
       "    </tr>\n",
       "  </tbody>\n",
       "</table>\n",
       "</div>"
      ],
      "text/plain": [
       "    CV_fold   fit_time  score_time  test_explained_variance  \\\n",
       "0         0   0.137514    1.137567                 0.999251   \n",
       "1         1   0.137896    1.136452                 0.999253   \n",
       "2         2   0.137427    1.161131                 0.999353   \n",
       "3         3   0.137265    1.126671                 0.999031   \n",
       "4         4   0.137094    1.185698                 0.999460   \n",
       "5         0   0.017263    0.002099                 0.793863   \n",
       "6         1   0.009887    0.002021                 0.771980   \n",
       "7         2   0.009873    0.002095                 0.777843   \n",
       "8         3   0.009882    0.002055                 0.800505   \n",
       "9         4   0.010991    0.002639                 0.772514   \n",
       "10        0  15.758953    6.759673                 0.847898   \n",
       "11        1  14.199242    6.626839                 0.859296   \n",
       "12        2  14.513353    6.598616                 0.849811   \n",
       "13        3  14.516796    6.594070                 0.858592   \n",
       "14        4  14.971270    6.585490                 0.862198   \n",
       "\n",
       "    test_neg_mean_absolute_error  test_neg_mean_squared_error   test_r2  \\\n",
       "0                      -6.490993                  -550.655799  0.999205   \n",
       "1                      -5.917281                  -567.826647  0.999211   \n",
       "2                      -5.678863                  -450.903183  0.999316   \n",
       "3                      -6.409396                  -680.338015  0.998978   \n",
       "4                      -5.443796                  -414.300897  0.999426   \n",
       "5                    -251.384983               -135205.087445  0.793653   \n",
       "6                    -273.255224               -167055.407505  0.771441   \n",
       "7                    -278.563280               -169700.397728  0.776966   \n",
       "8                    -249.384594               -128465.597209  0.799563   \n",
       "9                    -263.481382               -152126.795507  0.772402   \n",
       "10                   -123.475502               -118253.072312  0.836031   \n",
       "11                   -106.047501                -96167.982889  0.851206   \n",
       "12                   -121.278716               -113836.635778  0.838365   \n",
       "13                   -117.713322               -105258.643628  0.849189   \n",
       "14                   -113.378562               -102017.063320  0.852282   \n",
       "\n",
       "    test_neg_rmse algorithm  \n",
       "0      -23.466056       knn  \n",
       "1      -23.829113       knn  \n",
       "2      -21.234481       knn  \n",
       "3      -26.083290       knn  \n",
       "4      -20.354383       knn  \n",
       "5     -367.702444        rr  \n",
       "6     -408.724122        rr  \n",
       "7     -411.947081        rr  \n",
       "8     -358.420978        rr  \n",
       "9     -390.034352        rr  \n",
       "10    -343.879444       svr  \n",
       "11    -310.109630       svr  \n",
       "12    -337.396852       svr  \n",
       "13    -324.435885       svr  \n",
       "14    -319.401101       svr  "
      ]
     },
     "execution_count": 30,
     "metadata": {},
     "output_type": "execute_result"
    }
   ],
   "source": [
    "r_scr = pd.read_csv('results/28march2018/sfcompo_fiss_reactor_scores.csv').rename(columns = {'Unnamed: 0':'CV_fold'})\n",
    "# MWd/MTU\n",
    "b_scr = pd.read_csv('results/28march2018/sfcompo_fiss_burnup_scores.csv').rename(columns = {'Unnamed: 0':'CV_fold'})\n",
    "# %u235\n",
    "e_scr = pd.read_csv('results/28march2018/sfcompo_fiss_enrichment_scores.csv').rename(columns = {'Unnamed: 0':'CV_fold'})\n",
    "# days\n",
    "c_scr = pd.read_csv('results/28march2018/sfcompo_fiss_cooling_scores.csv').rename(columns = {'Unnamed: 0':'CV_fold'})\n",
    "\n",
    "print(r_scr.columns)\n",
    "print('\\n')\n",
    "print(e_scr.columns)\n",
    "c_scr"
   ]
  },
  {
   "cell_type": "code",
   "execution_count": 19,
   "metadata": {},
   "outputs": [
    {
     "data": {
      "text/plain": [
       "Index(['Burnup', 'CoolingTime', 'Enrichment', 'ReactorType', 'ba138', 'ce140',\n",
       "       'ce142', 'ce144', 'cs133', 'cs135', 'cs137', 'la139', 'mo100', 'mo95',\n",
       "       'mo97', 'mo98', 'nd143', 'nd144', 'nd145', 'nd146', 'pd104', 'pd105',\n",
       "       'pd106', 'pr141', 'pu239', 'pu240', 'pu241', 'pu242', 'rb87', 'rh103',\n",
       "       'ru101', 'ru102', 'ru104', 'sr88', 'sr90', 'tc99', 'total', 'u234',\n",
       "       'u235', 'u236', 'u238', 'xe131', 'xe132', 'xe134', 'xe136', 'y89',\n",
       "       'zr91', 'zr92', 'zr93', 'zr94', 'zr96'],\n",
       "      dtype='object')"
      ]
     },
     "execution_count": 19,
     "metadata": {},
     "output_type": "execute_result"
    }
   ],
   "source": [
    "trainXY = pd.read_pickle(\"sfcompo_pickles/not-scaled_trainset_nucs_fissact_8dec.pkl\")\n",
    "#x = len(trainXY.columns)-3\n",
    "#dfX = trainXY.iloc[:, 0:x]\n",
    "#dfY_e = trainXY.iloc[:, x+1]\n",
    "#dfY_b = trainXY.iloc[:, x+2]\n",
    "trainXY.columns"
   ]
  },
  {
   "cell_type": "code",
   "execution_count": 20,
   "metadata": {},
   "outputs": [],
   "source": [
    "# nucs messed up somehow and labels are at beginning\n",
    "x = len(trainXY.columns)\n",
    "dfY_b = trainXY.iloc[:, 0]\n",
    "dfY_c = trainXY.iloc[:, 1]\n",
    "dfY_e = trainXY.iloc[:, 2]\n",
    "dfY_r = trainXY.iloc[:, 3]\n",
    "dfX = trainXY.iloc[:, 4:x]"
   ]
  },
  {
   "cell_type": "markdown",
   "metadata": {},
   "source": []
  },
  {
   "cell_type": "code",
   "execution_count": null,
   "metadata": {},
   "outputs": [],
   "source": []
  },
  {
   "cell_type": "code",
   "execution_count": null,
   "metadata": {},
   "outputs": [],
   "source": []
  },
  {
   "cell_type": "code",
   "execution_count": null,
   "metadata": {},
   "outputs": [],
   "source": []
  },
  {
   "cell_type": "markdown",
   "metadata": {},
   "source": [
    "## Burnup v. Enrichment here"
   ]
  },
  {
   "cell_type": "code",
   "execution_count": 25,
   "metadata": {},
   "outputs": [],
   "source": [
    "x = dfY_b//1000.\n",
    "y = dfY_e\n",
    "#bin stuff\n",
    "xbin = 1.5\n",
    "ybin = 0.15\n",
    "xmax = np.max(np.abs(x))\n",
    "ymax = np.max(np.abs(y))\n",
    "xlim = (int(xmax/xbin) + 1)*xbin\n",
    "ylim = (int(ymax/ybin) + 1)*ybin\n",
    "xbins = np.arange(0, xlim + xbin, xbin)\n",
    "ybins = np.arange(0, ylim + ybin, ybin)\n",
    "xcount, xdivs = np.histogram(x, bins=xbins)\n",
    "ycount, ydivs = np.histogram(y, bins=ybins)"
   ]
  },
  {
   "cell_type": "code",
   "execution_count": 29,
   "metadata": {},
   "outputs": [
    {
     "data": {
      "image/png": "[encoded data removed]",
      "text/plain": [
       "<matplotlib.figure.Figure at 0x7feb7f85e0b8>"
      ]
     },
     "metadata": {},
     "output_type": "display_data"
    }
   ],
   "source": []
  },
  {
   "cell_type": "code",
   "execution_count": null,
   "metadata": {},
   "outputs": [],
   "source": []
  },
  {
   "cell_type": "markdown",
   "metadata": {},
   "source": [
    "## Correlate Features"
   ]
  },
  {
   "cell_type": "code",
   "execution_count": 14,
   "metadata": {
    "collapsed": true
   },
   "outputs": [],
   "source": [
    "cols_fissact = ['u235', 'u236', 'u238',\n",
    "                'pu239', 'pu240', 'pu241', 'pu242',\n",
    "               ]\n",
    "df_filtered = dfX[cols_fissact]\n",
    "\n",
    "corr = df_filtered.corr()\n",
    "#plt.matshow(corr)\n",
    "sns.heatmap(corr, \n",
    "            xticklabels=corr.columns.values,\n",
    "            yticklabels=corr.columns.values, \n",
    "            cmap=sns.diverging_palette(220, 10, as_cmap=True))"
   ]
  },
  {
   "cell_type": "code",
   "execution_count": null,
   "metadata": {},
   "outputs": [],
   "source": [
    "#other features\n",
    "\n",
    "other_cols = ['cs137', 'u234', 'sr90', 'u238', ]\n",
    "df_other = dfX[other_cols]\n",
    "\n",
    "other_corr = df_other.corr()\n",
    "sns.heatmap(other_corr, \n",
    "            xticklabels=other_corr.columns.values,\n",
    "            yticklabels=other_corr.columns.values, \n",
    "            cmap=sns.diverging_palette(220, 10, as_cmap=True))"
   ]
  },
  {
   "cell_type": "code",
   "execution_count": null,
   "metadata": {},
   "outputs": [],
   "source": [
    "sns.pairplot(df_other)"
   ]
  },
  {
   "cell_type": "code",
   "execution_count": null,
   "metadata": {},
   "outputs": [],
   "source": [
    "fig, axScatter = plt.subplots(figsize=(7, 7))\n",
    "#axScatter.scatter(x, y, s=ycount*0.1, c=colors['MTeal'], alpha=0.5, linewidths=0.1, marker='o', label='Ground Truth')\n",
    "axScatter.scatter(x, y, s=ycount*0.1, c='k', alpha=0.5, linewidths=0.1, marker='o', label='Ground Truth')\n",
    "# commenting out diff algs; can do diff plots\n",
    "axScatter.scatter(burn_knn, enr_knn, s=ycount*0.1, c=colors['MBrwn'], alpha=0.5, linewidths=0.1, marker='s', label='kNN Pred')\n",
    "#axScatter.scatter(burn_rr, enr_rr, s=ycount*0.1, c=colors['MPurp'], alpha=0.5, linewidths=0.1, marker='s', label='Ridge Pred')\n",
    "#axScatter.scatter(burn_svr, enr_svr, s=ycount*0.1, c=colors['MTeal'], alpha=0.5, linewidths=0.1, marker='s', label='SVR Pred')\n",
    "#axScatter.legend()\n",
    "plt.xlabel('Burnup [GWd/MTU]', fontsize=16)\n",
    "plt.ylabel('Enrichment [%U235]', fontsize=16)\n",
    "# comment out to see the really bad predictions\n",
    "#plt.ylim(ymax=6)\n",
    "fig.savefig('test.png', bbox_inches='tight')\n",
    "plt.show()"
   ]
  },
  {
   "cell_type": "code",
   "execution_count": null,
   "metadata": {},
   "outputs": [],
   "source": [
    "fig.clf()\n",
    "fig, axScatter = plt.subplots(figsize=(12,10))\n",
    "#fig.suptitle('test title', fontsize=20)\n",
    "axScatter.scatter(x, y, c='k', s=10, linewidths=0.1, marker='o', label='Ground Truth')\n",
    "#axScatter.scatter(burn_knn, enr_knn, c=colors['MBrwn'], s=10, linewidths=0.1, marker='s', label='kNN Pred')\n",
    "#axScatter.scatter(burn_rr, enr_rr, c=colors['MPurp'], s=10, linewidths=0.1, marker='s', label='Ridge Pred')\n",
    "axScatter.scatter(burn_svr, enr_svr, c=colors['MTeal'], s=10, linewidths=0.1, marker='s', label='SVR Pred')\n",
    "axScatter.legend()\n",
    "plt.xlabel('Burnup [GWd/MTU]', fontsize=16)\n",
    "plt.ylabel('Enrichment [%U235]', fontsize=16)\n",
    "divider = make_axes_locatable(axScatter)\n",
    "axHistx = divider.append_axes(\"top\", 1, pad=0.2, sharex=axScatter)\n",
    "axHisty = divider.append_axes(\"right\", 1.75, pad=0.2, sharey=axScatter)\n",
    "axHistx.hist(x, bins=xbins, color='0.5')\n",
    "axHisty.hist(y, bins=ybins, orientation='horizontal', color='0.5')\n",
    "plt.setp(axHistx.get_xticklabels(), visible=False)\n",
    "plt.setp(axHisty.get_yticklabels(), visible=False)\n",
    "axHistx.set_yticks([0, 250, 500])\n",
    "axHisty.set_xticks([0, 1000, 2000])\n",
    "# comment out to see the really bad predictions\n",
    "#plt.ylim(ymax=6)\n",
    "plt.show()"
   ]
  },
  {
   "cell_type": "code",
   "execution_count": null,
   "metadata": {},
   "outputs": [],
   "source": []
  }
 ],
 "metadata": {
  "kernelspec": {
   "display_name": "Python 3",
   "language": "python",
   "name": "python3"
  },
  "language_info": {
   "codemirror_mode": {
    "name": "ipython",
    "version": 3
   },
   "file_extension": ".py",
   "mimetype": "text/x-python",
   "name": "python",
   "nbconvert_exporter": "python",
   "pygments_lexer": "ipython3",
   "version": "3.5.2"
  }
 },
 "nbformat": 4,
 "nbformat_minor": 1
}
