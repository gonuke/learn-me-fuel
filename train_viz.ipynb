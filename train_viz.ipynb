{
 "metadata": {
  "name": "",
  "signature": "sha256:9318c09237fb3cfe825ae88def3f4208bd4aad36343a625b484dfb8487ab4a05"
 },
 "nbformat": 3,
 "nbformat_minor": 0,
 "worksheets": [
  {
   "cells": [
    {
     "cell_type": "code",
     "collapsed": false,
     "input": [
      "import pandas as pd\n",
      "import matplotlib.pyplot as plt"
     ],
     "language": "python",
     "metadata": {},
     "outputs": [],
     "prompt_number": 2
    },
    {
     "cell_type": "code",
     "collapsed": false,
     "input": [
      "trainXY = pd.read_pickle(\"trainXY_2nov.pkl\")"
     ],
     "language": "python",
     "metadata": {},
     "outputs": [],
     "prompt_number": 4
    },
    {
     "cell_type": "code",
     "collapsed": false,
     "input": [
      "x = len(trainXY.columns)-3\n",
      "dfX = trainXY.iloc[:, 0:x]\n",
      "dfY_e = trainXY.iloc[:, x+1]\n",
      "dfY_b = trainXY.iloc[:, x+2]"
     ],
     "language": "python",
     "metadata": {},
     "outputs": [],
     "prompt_number": 11
    },
    {
     "cell_type": "code",
     "collapsed": false,
     "input": [
      "dfY.hist()\n",
      "plt.show()"
     ],
     "language": "python",
     "metadata": {},
     "outputs": [],
     "prompt_number": 10
    },
    {
     "cell_type": "code",
     "collapsed": false,
     "input": [
      "fig, axScatter = plt.subplots(figsize=(5.5, 5.5))\n",
      "axScatter.scatter(dfY_e, dfY_b)\n",
      "#axScatter.set_aspect(1.)\n",
      "\n"
     ],
     "language": "python",
     "metadata": {},
     "outputs": []
    }
   ],
   "metadata": {}
  }
 ]
}