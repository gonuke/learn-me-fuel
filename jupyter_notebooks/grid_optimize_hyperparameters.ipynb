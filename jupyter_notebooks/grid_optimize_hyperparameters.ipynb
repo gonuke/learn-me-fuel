{
 "cells": [
  {
   "cell_type": "code",
   "execution_count": null,
   "metadata": {},
   "outputs": [],
   "source": [
    "from sklearn.preprocessing import scale\n",
    "from sklearn.neighbors import KNeighborsRegressor, KNeighborsClassifier\n",
    "from sklearn.tree import DecisionTreeRegressor, DecisionTreeClassifier\n",
    "from sklearn.linear_model import Ridge, RidgeClassifier\n",
    "from sklearn.svm import SVR, SVC\n",
    "from sklearn.model_selection import KFold, StratifiedKFold, GridSearchCV\n",
    "\n",
    "import pandas as pd\n",
    "import numpy as np"
   ]
  },
  {
   "cell_type": "code",
   "execution_count": null,
   "metadata": {},
   "outputs": [],
   "source": [
    "def splitXY(dfXY):\n",
    "    lbls = ['ReactorType', 'CoolingTime', 'Enrichment', 'Burnup', 'OrigenReactor']\n",
    "    dfX = dfXY.drop(lbls, axis=1)\n",
    "    if 'total' in dfX.columns:\n",
    "        dfX.drop('total', axis=1, inplace=True)\n",
    "    r_dfY = dfXY.loc[:, lbls[0]]\n",
    "    c_dfY = dfXY.loc[:, lbls[1]]\n",
    "    e_dfY = dfXY.loc[:, lbls[2]]\n",
    "    b_dfY = dfXY.loc[:, lbls[3]]\n",
    "    return dfX, r_dfY, c_dfY, e_dfY, b_dfY\n",
    "\n",
    "CV = 5\n",
    "trainset = '../pkl_trainsets/2jul2018/22jul2018_trainset3_nucs_fissact_not-scaled.pkl'\n",
    "trainXY = pd.read_pickle(trainset)\n",
    "trainXY = trainXY.sample(frac=0.5)\n",
    "trainX, rY, cY, eY, bY = splitXY(trainXY)\n",
    "trainX = scale(trainX)"
   ]
  },
  {
   "cell_type": "code",
   "execution_count": null,
   "metadata": {},
   "outputs": [],
   "source": [
    "knn_grid = {'n_neighbors': np.linspace(1, 20, 20).astype(int)}\n",
    "dtr_grid = {\"max_depth\": np.linspace(3, 100, 20).astype(int),\n",
    "            \"max_features\": np.linspace(5, len(trainXY.columns)-6, 20).astype(int)}\n",
    "svr_grid = {'C': np.logspace(-2, 5, 20), 'gamma': np.logspace(-7, 2, 20)} "
   ]
  },
  {
   "cell_type": "code",
   "execution_count": null,
   "metadata": {},
   "outputs": [],
   "source": [
    "score = 'explained_variance'\n",
    "kfold = KFold(n_splits=CV, shuffle=True)\n",
    "knn_init = KNeighborsRegressor(weights='distance')\n",
    "dtr_init = DecisionTreeRegressor()\n",
    "svr_init = SVR()  \n",
    "\n",
    "for Y in ('b', 'c', 'e'):\n",
    "    trainY = pd.Series()\n",
    "    # get param names and set ground truth\n",
    "    if Y == 'c':\n",
    "        trainY = cY\n",
    "        parameter = 'cooling'\n",
    "    elif Y == 'b':\n",
    "        trainY = bY\n",
    "        parameter = 'burnup'\n",
    "    elif Y == 'e':\n",
    "        trainY = eY\n",
    "        parameter = 'enrichment'\n",
    "    else:\n",
    "        trainY = rY\n",
    "        parameter = 'reactor'\n",
    "        score = 'accuracy'\n",
    "        kfold = StratifiedKFold(n_splits=CV, shuffle=True)\n",
    "        knn_init = KNeighborsClassifier(weights='distance')\n",
    "        dtr_init = DecisionTreeClassifier(class_weight='balanced')\n",
    "        svr_init = SVC(C=200, class_weight='balanced')\n",
    "\n",
    "    knn_opt = GridSearchCV(estimator=knn_init, param_grid=knn_grid, \n",
    "                                 scoring=score, n_jobs=-1, cv=kfold, \n",
    "                                 return_train_score=True)\n",
    "    dtr_opt = GridSearchCV(estimator=dtr_init, param_grid=dtr_grid,\n",
    "                                 scoring=score, n_jobs=-1, cv=kfold, \n",
    "                                 return_train_score=True)\n",
    "    svr_opt = GridSearchCV(estimator=svr_init, param_grid=svr_grid,\n",
    "                                 scoring=score, n_jobs=-1, cv=kfold, \n",
    "                                 return_train_score=True)\n",
    "\n",
    "    knn_opt.fit(trainX, trainY)\n",
    "    dtr_opt.fit(trainX, trainY)\n",
    "    svr_opt.fit(trainX, trainY)\n",
    "\n",
    "    # best params\n",
    "    k = knn_opt.best_params_['n_neighbors']\n",
    "    d = dtr_opt.best_params_['max_depth']\n",
    "    f = dtr_opt.best_params_['max_features']\n",
    "    g = svr_opt.best_params_['gamma']\n",
    "    c = svr_opt.best_params_['C']\n",
    "\n",
    "    # save info\n",
    "    param_file = 'trainset3_hyperparameters.txt'\n",
    "    with open(param_file, 'a') as pf:\n",
    "        pf.write('The following parameters are best from the randomized search for the {} parameter prediction:\\n'.format(parameter))\n",
    "        pf.write('k for knn is {}\\n'.format(k)) \n",
    "        pf.write('max depth for dtree is {}\\n'.format(d))\n",
    "        pf.write('max features for dtree is {}\\n'.format(f))\n",
    "        pf.write('gamma for svr is {}\\n'.format(g)) \n",
    "        pf.write('C for svr is {}\\n'.format(c))\n",
    "    print(' k is {}\\n max depth is {}\\n max feat is {}\\n gamma is {}\\n C is {}\\n'.format(k, d, f, g, c), flush=True)"
   ]
  },
  {
   "cell_type": "code",
   "execution_count": null,
   "metadata": {},
   "outputs": [],
   "source": []
  },
  {
   "cell_type": "code",
   "execution_count": null,
   "metadata": {},
   "outputs": [],
   "source": []
  },
  {
   "cell_type": "code",
   "execution_count": null,
   "metadata": {},
   "outputs": [],
   "source": []
  },
  {
   "cell_type": "code",
   "execution_count": null,
   "metadata": {},
   "outputs": [],
   "source": []
  }
 ],
 "metadata": {
  "kernelspec": {
   "display_name": "Python 3",
   "language": "python",
   "name": "python3"
  },
  "language_info": {
   "codemirror_mode": {
    "name": "ipython",
    "version": 3
   },
   "file_extension": ".py",
   "mimetype": "text/x-python",
   "name": "python",
   "nbconvert_exporter": "python",
   "pygments_lexer": "ipython3",
   "version": "3.5.2"
  }
 },
 "nbformat": 4,
 "nbformat_minor": 2
}
