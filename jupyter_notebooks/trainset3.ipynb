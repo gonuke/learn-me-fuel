{
 "cells": [
  {
   "cell_type": "code",
   "execution_count": 17,
   "metadata": {},
   "outputs": [],
   "source": [
    "from sklearn.preprocessing import scale\n",
    "from sklearn.neighbors import KNeighborsRegressor, KNeighborsClassifier\n",
    "from sklearn.linear_model import Ridge, RidgeClassifier\n",
    "from sklearn.svm import SVR, SVC\n",
    "from sklearn.model_selection import train_test_split, KFold, StratifiedKFold, RandomizedSearchCV, train_test_split\n",
    "\n",
    "from scipy.stats import expon\n",
    "\n",
    "import pandas as pd\n",
    "import numpy as np\n",
    "import matplotlib.pyplot as plt\n",
    "import seaborn as sns\n",
    "%matplotlib inline "
   ]
  },
  {
   "cell_type": "code",
   "execution_count": 2,
   "metadata": {},
   "outputs": [],
   "source": [
    "# color dict (use: colors['XColor'])\n",
    "\n",
    "colors = {'DBrwn' : '#8c510a', 'MBrwn' : '#d8b365', 'LBrwn' : '#f6e8c3',\n",
    "          'DTeal' : '#01665e', 'MTeal' : '#5ab4ac', 'LTeal' : '#c7eae5',\n",
    "          'DPurp' : '#762a83', 'MPurp' : '#af8dc3', 'LPurp' : '#e7d4e8'\n",
    "         }\n",
    "\n",
    "# set params\n",
    "# save as .mplstyle file and import with: plt.style.use('file')\n",
    "#mpl.rcParams['lines.linewidth'] = 2\n",
    "#mpl.rcParams['lines.color'] = 'r'\n",
    "\n",
    "# colors for seaborn\n",
    "dark = [\"#8c510a\", \"#01665e\", \"#762a83\"]\n",
    "med = [\"#d8b365\", \"#5ab4ac\", \"#af8dc3\"]"
   ]
  },
  {
   "cell_type": "markdown",
   "metadata": {},
   "source": [
    "# Make Predictions wrt Test Set"
   ]
  },
  {
   "cell_type": "code",
   "execution_count": 52,
   "metadata": {},
   "outputs": [],
   "source": [
    "low_burn_test = '../pkl_trainsets/2jul2018/2jul2018_testset1_nucs_fissact_not-scaled.pkl'\n",
    "train1 = '../pkl_trainsets/2jul2018/2jul2018_trainset1_nucs_fissact_not-scaled.pkl'\n",
    "train2 = '../pkl_trainsets/2jul2018/2jul2018_trainset2_nucs_fissact_not-scaled.pkl'\n",
    "train3 = '../pkl_trainsets/2jul2018/22jul2018_trainset3_nucs_fissact_not-scaled.pkl'\n",
    "trainXY = pd.read_pickle(train2)\n",
    "testXY = pd.read_pickle(low_burn_test)"
   ]
  },
  {
   "cell_type": "code",
   "execution_count": 53,
   "metadata": {},
   "outputs": [],
   "source": [
    "def splitXY(dfXY):\n",
    "    lbls = ['ReactorType', 'CoolingTime', 'Enrichment', 'Burnup', 'OrigenReactor']\n",
    "    dfX = dfXY.drop(lbls, axis=1)\n",
    "    if 'total' in dfX.columns:\n",
    "        dfX.drop('total', axis=1, inplace=True)\n",
    "    r_dfY = dfXY.loc[:, lbls[0]]\n",
    "    c_dfY = dfXY.loc[:, lbls[1]]\n",
    "    e_dfY = dfXY.loc[:, lbls[2]]\n",
    "    b_dfY = dfXY.loc[:, lbls[3]]\n",
    "    #o_dfY = dfXY.loc[:, lbls[4]]\n",
    "    return dfX, r_dfY, c_dfY, e_dfY, b_dfY\n",
    "\n",
    "trnX, rY, cY, eY, bY = splitXY(trainXY)\n",
    "tstX, ry, cy, ey, by = splitXY(testXY)    #lowercase Y denotes testing labels"
   ]
  },
  {
   "cell_type": "code",
   "execution_count": null,
   "metadata": {},
   "outputs": [],
   "source": []
  },
  {
   "cell_type": "code",
   "execution_count": 54,
   "metadata": {},
   "outputs": [
    {
     "name": "stdout",
     "output_type": "stream",
     "text": [
      "['cs135', 'pd104', 'pd105', 'pd106', 'pu242']\n",
      "41\n",
      "Index(['ba138', 'ce140', 'ce142', 'ce144', 'cs133', 'cs137', 'la139', 'mo100',\n",
      "       'mo95', 'mo97', 'mo98', 'nd143', 'nd144', 'nd145', 'nd146', 'pr141',\n",
      "       'pu239', 'pu240', 'pu241', 'rb87', 'rh103', 'ru101', 'ru102', 'ru104',\n",
      "       'sr88', 'sr90', 'tc99', 'u234', 'u235', 'u236', 'u238', 'xe131',\n",
      "       'xe132', 'xe134', 'xe136', 'y89', 'zr91', 'zr92', 'zr93', 'zr94',\n",
      "       'zr96'],\n",
      "      dtype='object')\n",
      "41\n",
      "Index(['ba138', 'ce140', 'ce142', 'ce144', 'cs133', 'cs137', 'la139', 'mo100',\n",
      "       'mo95', 'mo97', 'mo98', 'nd143', 'nd144', 'nd145', 'nd146', 'pr141',\n",
      "       'pu239', 'pu240', 'pu241', 'rb87', 'rh103', 'ru101', 'ru102', 'ru104',\n",
      "       'sr88', 'sr90', 'tc99', 'u234', 'u235', 'u236', 'u238', 'xe131',\n",
      "       'xe132', 'xe134', 'xe136', 'y89', 'zr91', 'zr92', 'zr93', 'zr94',\n",
      "       'zr96'],\n",
      "      dtype='object')\n"
     ]
    }
   ],
   "source": [
    "extra = []\n",
    "for i in trnX.columns:\n",
    "    if i not in tstX.columns:\n",
    "        extra.append(i)\n",
    "print(extra)\n",
    "trnX = trnX.drop(extra, axis=1)\n",
    "print(len(trnX.columns))\n",
    "print(trnX.columns)\n",
    "print(len(tstX.columns))\n",
    "print(tstX.columns)"
   ]
  },
  {
   "cell_type": "code",
   "execution_count": 55,
   "metadata": {},
   "outputs": [],
   "source": [
    "#trainX = scale(trnX)\n",
    "#testX = scale(tstX)\n",
    "trainX = trnX\n",
    "testX = tstX"
   ]
  },
  {
   "cell_type": "code",
   "execution_count": 56,
   "metadata": {},
   "outputs": [
    {
     "name": "stdout",
     "output_type": "stream",
     "text": [
      "The reactor scores are knn=0.6179775280898876, rr=0.2808988764044944, and svr=0.8202247191011236\n",
      "\n",
      "The burnup scores are knn=0.9795543676709813, rr=0.9998361063334887, and svr=0.9172682957144276\n",
      "\n",
      "The cooling scores are knn=-1.0590040951588833, rr=-223.94143015165483, and svr=0.6184950168338598\n",
      "\n",
      "The enrichment scores are knn=-0.1386109693036328, rr=-4.278658328192713, and svr=0.5922057054547918\n",
      "\n"
     ]
    }
   ],
   "source": [
    "CV=5\n",
    "for Y in ('r', 'b', 'c', 'e'):\n",
    "    trainY = pd.Series()\n",
    "    # get param names and set ground truth\n",
    "    if Y == 'c':\n",
    "        trainY = cY\n",
    "        testY = cy\n",
    "        parameter = 'cooling'\n",
    "    elif Y == 'e': \n",
    "        trainY = eY\n",
    "        testY = ey\n",
    "        parameter = 'enrichment'\n",
    "    elif Y == 'b':\n",
    "        trainY = bY\n",
    "        testY = by\n",
    "        parameter = 'burnup'\n",
    "    else:\n",
    "        trainY = rY\n",
    "        testY = ry\n",
    "        parameter = 'reactor'    \n",
    "    \n",
    "    #######################\n",
    "    # optimize parameters #\n",
    "    #######################\n",
    "            \n",
    "    # initialize learners\n",
    "    score = 'explained_variance'\n",
    "    kfold = KFold(n_splits=CV, shuffle=True)\n",
    "    knn_init = KNeighborsRegressor(n_neighbors=4, weights='distance')\n",
    "    rr_init = Ridge(alpha=0.001)\n",
    "    svr_init = SVR(gamma=0.001, C=200)\n",
    "    if Y is 'r':\n",
    "        score = 'accuracy'\n",
    "        kfold = StratifiedKFold(n_splits=CV, shuffle=True)\n",
    "        knn_init = KNeighborsClassifier(n_neighbors=4, weights='distance')\n",
    "        rr_init = RidgeClassifier(alpha=0.001, class_weight='balanced')\n",
    "        svr_init = SVC(gamma=0.001, C=200, class_weight='balanced')\n",
    "        \n",
    "    knn_init.fit(trainX, trainY)\n",
    "    rr_init.fit(trainX, trainY)\n",
    "    svr_init.fit(trainX, trainY)\n",
    "    \n",
    "    ########################\n",
    "    # run predictions, etc #\n",
    "    ########################\n",
    "\n",
    "    scores = ['explained_variance', 'neg_mean_absolute_error']\n",
    "    if Y is 'r':\n",
    "        scores = ['accuracy', ]\n",
    "        \n",
    "    kpred = knn_init.predict(testX)\n",
    "    kscr = knn_init.score(testX, testY)\n",
    "    rpred = rr_init.predict(testX)\n",
    "    rscr = rr_init.score(testX, testY)\n",
    "    spred = svr_init.predict(testX)\n",
    "    sscr = svr_init.score(testX, testY)\n",
    "    \n",
    "    print('The {} scores are knn={}, rr={}, and svr={}\\n'.format(parameter, kscr, rscr, sscr), flush=True)\n",
    "    preds_by_alg = pd.DataFrame({'TrueY': testY, 'kNN': kpred, \n",
    "                                 'Ridge': rpred, 'SVR': spred}, \n",
    "                                  index=testY.index)\n",
    "    preds_by_alg.to_csv('testset1_v_trainset2_' + parameter + '_predictions.csv')"
   ]
  },
  {
   "cell_type": "code",
   "execution_count": 31,
   "metadata": {},
   "outputs": [],
   "source": []
  },
  {
   "cell_type": "code",
   "execution_count": null,
   "metadata": {},
   "outputs": [],
   "source": []
  }
 ],
 "metadata": {
  "kernelspec": {
   "display_name": "Python 3",
   "language": "python",
   "name": "python3"
  },
  "language_info": {
   "codemirror_mode": {
    "name": "ipython",
    "version": 3
   },
   "file_extension": ".py",
   "mimetype": "text/x-python",
   "name": "python",
   "nbconvert_exporter": "python",
   "pygments_lexer": "ipython3",
   "version": "3.5.2"
  }
 },
 "nbformat": 4,
 "nbformat_minor": 1
}
