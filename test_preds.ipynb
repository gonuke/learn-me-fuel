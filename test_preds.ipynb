{
 "cells": [
  {
   "cell_type": "code",
   "execution_count": null,
   "metadata": {
    "collapsed": true
   },
   "outputs": [],
   "source": []
  },
  {
   "cell_type": "code",
   "execution_count": null,
   "metadata": {
    "collapsed": true
   },
   "outputs": [],
   "source": [
    "# Reactor Type\n",
    "# L1 norm is Manhattan Distance\n",
    "# L2 norm is Euclidian Distance \n",
    "l1knc = KNeighborsClassifier(metric='l1', p=1)\n",
    "l2knc = KNeighborsClassifier(metric='l2', p=2)\n",
    "l1knc.fit(trainX, r_trainY)\n",
    "l2knc.fit(trainX, r_trainY)\n",
    "# Predictions\n",
    "predict1 = l1knc.predict(testX)\n",
    "predict2 = l2knc.predict(testX)\n",
    "expected = r_testY\n",
    "print(metrics.classification_report(expected, predict1))\n",
    "print(metrics.classification_report(expected, predict2))"
   ]
  },
  {
   "cell_type": "code",
   "execution_count": null,
   "metadata": {
    "collapsed": true
   },
   "outputs": [],
   "source": [
    "# Enrichment\n",
    "l1knr = KNeighborsRegressor(metric='l1', p=1)\n",
    "l2knr = KNeighborsRegressor(metric='l2', p=2)\n",
    "l1knr.fit(trainX, e_trainY)\n",
    "l2knr.fit(trainX, e_trainY)\n",
    "predict1 = l1knr.predict(testX)\n",
    "predict2 = l2knr.predict(testX)\n",
    "expected = e_testY\n",
    "print(metrics.mean_absolute_error(expected, predict1))\n",
    "print(metrics.mean_absolute_error(expected, predict2))"
   ]
  },
  {
   "cell_type": "code",
   "execution_count": null,
   "metadata": {
    "collapsed": true
   },
   "outputs": [],
   "source": [
    "# Burnup\n",
    "bl1knr = KNeighborsRegressor(metric='l1', p=1)\n",
    "bl2knr = KNeighborsRegressor(metric='l2', p=2)\n",
    "bl1knr.fit(trainX, b_trainY)\n",
    "bl2knr.fit(trainX, b_trainY)\n",
    "predict1 = bl1knr.predict(testX)\n",
    "predict2 = bl2knr.predict(testX)\n",
    "expected = b_testY\n",
    "print(metrics.mean_absolute_error(expected, predict1))\n",
    "print(metrics.mean_absolute_error(expected, predict2))\n",
    "print(metrics.r2_score(expected, predict1))\n",
    "print(metrics.r2_score(expected, predict2))"
   ]
  }
 ],
 "metadata": {
  "kernelspec": {
   "display_name": "Python 3",
   "language": "python",
   "name": "python3"
  },
  "language_info": {
   "codemirror_mode": {
    "name": "ipython",
    "version": 3
   },
   "file_extension": ".py",
   "mimetype": "text/x-python",
   "name": "python",
   "nbconvert_exporter": "python",
   "pygments_lexer": "ipython3",
   "version": "3.6.3"
  }
 },
 "nbformat": 4,
 "nbformat_minor": 2
}
