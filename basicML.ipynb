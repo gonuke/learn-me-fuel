{
 "metadata": {
  "name": "",
  "signature": "sha256:3a2fc702e02452e37ec58e41a0fa8614c8d3b7751abcc6192ae3d2a3609c5937"
 },
 "nbformat": 3,
 "nbformat_minor": 0,
 "worksheets": [
  {
   "cells": [
    {
     "cell_type": "code",
     "collapsed": false,
     "input": [
      "from __future__ import print_function\n",
      "from sklearn.neighbors import KNeighborsClassifier\n",
      "from sklearn.linear_model import RidgeClassifier\n",
      "from sklearn.neighbors import KNeighborsRegressor\n",
      "from sklearn.linear_model import Ridge\n",
      "from sklearn import metrics\n",
      "import pandas as pd\n",
      "import numpy as np\n",
      "import math\n",
      "import glob\n",
      "import os"
     ],
     "language": "python",
     "metadata": {},
     "outputs": [],
     "prompt_number": 61
    },
    {
     "cell_type": "code",
     "collapsed": false,
     "input": [
      "# Info for labeling data\n",
      "o_rxtrs = ['ce14x14', 'ce16x16', 'w14x14', 'w15x15', 'w17x17', 's14x14', \n",
      "           'vver440', 'vver440_3.82', 'vver440_4.25', 'vver440_4.38', \n",
      "           'vver1000', 'ge7x7-0', 'ge8x8-1', 'ge9x9-2', 'ge10x10-8', \n",
      "           'abb8x8-1', 'atrium9x9-9', 'svea64-1', 'svea100-0', 'candu28', \n",
      "           'candu37'\n",
      "           ]\n",
      "enrich =  [2.8, 2.8, 2.8, 2.8, 2.8, 2.8, 3.6, 3.82, 4.25, 4.38, 2.8, 2.9, \n",
      "           2.9, 2.9, 2.9, 2.9, 2.9, 2.9, 2.9, 0.711, 0.711\n",
      "           ]\n",
      "train_label = {'ReactorType': ['pwr']*11 + ['bwr']*8 + ['phwr']*2,\n",
      "               'OrigenReactor': o_rxtrs,\n",
      "               'Enrichment': enrich\n",
      "               }\n",
      "\n",
      "##################################################\n",
      "### TODO: need to add burnup label to dataframe###\n",
      "##################################################\n",
      "# Include burnups for regression step (MWd/MTU)\n",
      "pwrburn = [600, 1550, 2500, 3450, 4400, 5350, 6300, 7250, 8200, 9150, 10100, \n",
      "           11050, 12000, 12950, 13900, 14850, 15800, 16750, 17700\n",
      "           ]\n",
      "bwrburn = [600, 1290, 1980, 2670, 3360, 4050, 4740, 5430, 6120, 6810, 7500, \n",
      "           8190, 8880, 9570, 10260, 10950, 11640, 12330\n",
      "           ]\n",
      "phwrburn = [600, 1290, 1980, 2670, 3360, 4050, 4740, 5430, 6120, 6810, 7500, \n",
      "            8190, 8880, 9570, 10260, 10950, 11640, 12330\n",
      "            ]"
     ],
     "language": "python",
     "metadata": {},
     "outputs": [],
     "prompt_number": 14
    },
    {
     "cell_type": "code",
     "collapsed": false,
     "input": [
      "# For labeling the actual values in the testing set\n",
      "\n",
      "t_o_rxtrs = ['candu28_0', 'candu28_1', 'ce16x16_2', 'ce16x16_3', 'ce16x16_4', \n",
      "             'ge7x7-0_5','ge7x7-0_6', 'ge7x7-0_7'\n",
      "             ]\n",
      "t_enrich =  [0.711, 0.711, 2.8, 2.8, 3.1, 2.9, 2.9, 3.2]\n",
      "test_label = {'ReactorType': ['phwr']*2 + ['pwr']*3 + ['bwr']*3,\n",
      "              'OrigenReactor': t_o_rxtrs,\n",
      "              'Enrichment': t_enrich\n",
      "              }\n",
      "\n",
      "# For when we include burnup in label\n",
      "t_burns = [[1400, 5000, 11000], [5000, 6120], [1700, 8700, 17000],\n",
      "         [8700, 9150], [8700, 9150], [2000, 7200, 10800],\n",
      "         [7200, 8800], [7200, 8800]\n",
      "         ]"
     ],
     "language": "python",
     "metadata": {},
     "outputs": [],
     "prompt_number": 15
    },
    {
     "cell_type": "code",
     "collapsed": false,
     "input": [
      "def reactor(filename, rxtrs):\n",
      "    tail, _ = os.path.splitext(os.path.basename(filename))\n",
      "    i = rxtrs['OrigenReactor'].index(tail)\n",
      "    # Make dict so label_data func is clearer:\n",
      "    rxtr_info = [rxtrs['ReactorType'][i], rxtrs['Enrichment'][i]]\n",
      "    return rxtr_info\n",
      "\n",
      "def format_df(filename):\n",
      "    data = pd.read_csv(filename).T\n",
      "    data.columns = data.iloc[0]\n",
      "    data.drop(data.index[0], inplace=True)\n",
      "    data.reset_index(inplace=True)\n",
      "    return data\n",
      "\n",
      "def label_data(label, data):\n",
      "    col = len(data.columns)\n",
      "    data.insert(loc = col, column = 'ReactorType', value = label[0])\n",
      "    data.insert(loc = col+1, column = 'Enrichment', value = label[1])\n",
      "    return data\n",
      "\n",
      "def splitXY(dfXY):\n",
      "    x = len(dfXY.columns)-2\n",
      "    y = x\n",
      "    dfX = dfXY.iloc[:, 6:x]\n",
      "    dfY = dfXY.iloc[:, y]\n",
      "    return dfX, dfY\n",
      "\n",
      "def dataframeXY(all_files, rxtr_label):\n",
      "    all_data = []\n",
      "    for f in all_files:\n",
      "        data = format_df(f)\n",
      "        label = reactor(f, rxtr_label)\n",
      "        labeled = label_data(label, data)\n",
      "        all_data.append(labeled)\n",
      "    dfXY = pd.concat(all_data)\n",
      "    return dfXY"
     ],
     "language": "python",
     "metadata": {},
     "outputs": [],
     "prompt_number": 22
    },
    {
     "cell_type": "code",
     "collapsed": false,
     "input": [
      "# Training Dataset\n",
      "## Still need to filter for top 200 nuclides\n",
      "\n",
      "datapath = \"../origen/origen-data/training/9may2017/csv/\"\n",
      "all_files = glob.glob(os.path.join(datapath, \"*.csv\"))\n",
      "dfXY = dataframeXY(all_files, train_label)\n",
      "trainX, trainY = splitXY(trainXY)\n",
      "\n",
      "#################################################\n",
      "### TODO: might need to remove all the 0 steps###\n",
      "#################################################"
     ],
     "language": "python",
     "metadata": {},
     "outputs": [],
     "prompt_number": 40
    },
    {
     "cell_type": "code",
     "collapsed": false,
     "input": [
      "# Testing Dataset (for now)\n",
      "datapath = \"../origen/origen-data/testing/10may2017/csv/\"\n",
      "all_files = glob.glob(os.path.join(datapath, \"*.csv\"))\n",
      "testXY = dataframeXY(all_files, test_label)\n",
      "testX, testY = splitXY(testXY)"
     ],
     "language": "python",
     "metadata": {},
     "outputs": [],
     "prompt_number": 41
    },
    {
     "cell_type": "code",
     "collapsed": false,
     "input": [
      "# L1 norm is Manhattan Distance\n",
      "# L2 norm is Euclidian Distance \n",
      "# Ridge Regression is Linear + L2 regularization\n",
      "l1knc = KNeighborsClassifier(metric='l1', p=1)\n",
      "l2knc = KNeighborsClassifier(metric='l2', p=2)\n",
      "rc = RidgeClassifier()\n",
      "l1knc.fit(trainX, trainY)\n",
      "l2knc.fit(trainX, trainY)\n",
      "rc.fit(trainX, trainY)"
     ],
     "language": "python",
     "metadata": {},
     "outputs": [
      {
       "metadata": {},
       "output_type": "pyout",
       "prompt_number": 63,
       "text": [
        "RidgeClassifier(alpha=1.0, class_weight=None, copy_X=True, fit_intercept=True,\n",
        "        max_iter=None, normalize=False, random_state=None, solver='auto',\n",
        "        tol=0.001)"
       ]
      }
     ],
     "prompt_number": 63
    },
    {
     "cell_type": "code",
     "collapsed": false,
     "input": [
      "# Predictions\n",
      "predict1 = l1knc.predict(testX)\n",
      "predict2 = l2knc.predict(testX)\n",
      "predict3 = rc.predict(testX)\n",
      "expected = testY"
     ],
     "language": "python",
     "metadata": {},
     "outputs": [],
     "prompt_number": 66
    },
    {
     "cell_type": "code",
     "collapsed": false,
     "input": [
      "print(metrics.classification_report(expected, predict1))\n",
      "print(metrics.classification_report(expected, predict2))\n",
      "print(metrics.classification_report(expected, predict3))"
     ],
     "language": "python",
     "metadata": {},
     "outputs": [
      {
       "output_type": "stream",
       "stream": "stdout",
       "text": [
        "             precision    recall  f1-score   support\n",
        "\n",
        "        bwr       0.58      0.88      0.70        24\n",
        "       phwr       1.00      0.89      0.94        18\n",
        "        pwr       0.79      0.46      0.58        24\n",
        "\n",
        "avg / total       0.77      0.73      0.72        66\n",
        "\n",
        "             precision    recall  f1-score   support\n",
        "\n",
        "        bwr       0.55      0.88      0.68        24\n",
        "       phwr       1.00      0.89      0.94        18\n",
        "        pwr       0.75      0.38      0.50        24\n",
        "\n",
        "avg / total       0.75      0.70      0.68        66\n",
        "\n",
        "             precision    recall  f1-score   support\n",
        "\n",
        "        bwr       0.73      1.00      0.84        24\n",
        "       phwr       1.00      0.67      0.80        18\n",
        "        pwr       1.00      0.88      0.93        24\n",
        "\n",
        "avg / total       0.90      0.86      0.86        66\n",
        "\n"
       ]
      }
     ],
     "prompt_number": 67
    },
    {
     "cell_type": "code",
     "collapsed": false,
     "input": [
      "# Enrichment?\n",
      "y = len(trainXY.columns)-1\n",
      "etrainY = trainXY.iloc[:, y]\n",
      "etestY = testXY.iloc[:, y]\n",
      "l1knr = KNeighborsRegressor(metric='l1', p=1)\n",
      "l2knr = KNeighborsRegressor(metric='l2', p=2)\n",
      "rr = Ridge()\n",
      "l1knr.fit(trainX, etrainY)\n",
      "l2knr.fit(trainX, etrainY)\n",
      "rr.fit(trainX, etrainY)\n",
      "epredict1 = l1knr.predict(testX)\n",
      "epredict2 = l2knr.predict(testX)\n",
      "epredict3 = rr.predict(testX)\n",
      "eexpected = etestY"
     ],
     "language": "python",
     "metadata": {},
     "outputs": [],
     "prompt_number": 68
    },
    {
     "cell_type": "code",
     "collapsed": false,
     "input": [
      "print(metrics.mean_absolute_error(eexpected, epredict1))\n",
      "print(metrics.mean_absolute_error(eexpected, epredict2))\n",
      "print(metrics.mean_absolute_error(eexpected, epredict3))"
     ],
     "language": "python",
     "metadata": {},
     "outputs": [
      {
       "output_type": "stream",
       "stream": "stdout",
       "text": [
        "0.163472727273\n",
        "0.155593939394\n",
        "0.370677131962\n"
       ]
      }
     ],
     "prompt_number": 70
    },
    {
     "cell_type": "code",
     "collapsed": false,
     "input": [],
     "language": "python",
     "metadata": {},
     "outputs": []
    }
   ],
   "metadata": {}
  }
 ]
}