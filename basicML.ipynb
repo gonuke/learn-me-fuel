{
 "metadata": {
  "name": "",
  "signature": "sha256:917c34fb7a437b20b96068c999a781fec703f6b2f124c4c069e177da52dfb91f"
 },
 "nbformat": 3,
 "nbformat_minor": 0,
 "worksheets": [
  {
   "cells": [
    {
     "cell_type": "code",
     "collapsed": false,
     "input": [
      "from __future__ import print_function\n",
      "from sklearn.neighbors import NearestNeighbors\n",
      "from sklearn.linear_model import RidgeClassifier\n",
      "import pandas as pd\n",
      "import numpy as np\n",
      "import math\n",
      "import glob\n",
      "import os"
     ],
     "language": "python",
     "metadata": {},
     "outputs": [],
     "prompt_number": 1
    },
    {
     "cell_type": "code",
     "collapsed": false,
     "input": [
      "# Info for labeling data\n",
      "o_rxtrs = ['ce14x14', 'ce16x16', 'w14x14', 'w15x15', 'w17x17', 's14x14', \n",
      "           'vver440', 'vver440_3.82', 'vver440_4.25', 'vver440_4.38', \n",
      "           'vver1000', 'ge7x7-0', 'ge8x8-1', 'ge9x9-2', 'ge10x10-8', \n",
      "           'abb8x8-1', 'atrium9x9-9', 'svea64-1', 'svea100-0', 'candu28', \n",
      "           'candu37'\n",
      "           ]\n",
      "enrich =  [2.8, 2.8, 2.8, 2.8, 2.8, 2.8, 3.6, 3.82, 4.25, 4.38, 2.8, 2.9, \n",
      "           2.9, 2.9, 2.9, 2.9, 2.9, 2.9, 2.9, 0.711, 0.711\n",
      "           ]\n",
      "rxtrs = {'ReactorType': ['pwr']*11 + ['bwr']*8 + ['phwr']*2,\n",
      "         'OrigenReactor': o_rxtrs,\n",
      "         'Enrichment': enrich\n",
      "         }\n",
      "\n",
      "##################################################\n",
      "### TODO: need to add burnup label to dataframe###\n",
      "##################################################\n",
      "# Include burnups for regression step (MWd/MTU)\n",
      "pwr = [600, 1550, 2500, 3450, 4400, 5350, 6300, 7250, 8200, 9150, 10100, \n",
      "       11050, 12000, 12950, 13900, 14850, 15800, 16750, 17700\n",
      "       ]\n",
      "bwr = [600, 1290, 1980, 2670, 3360, 4050, 4740, 5430, 6120, 6810, 7500, \n",
      "       8190, 8880, 9570, 10260, 10950, 11640, 12330\n",
      "       ]\n",
      "phwr = [600, 1290, 1980, 2670, 3360, 4050, 4740, 5430, 6120, 6810, 7500, \n",
      "        8190, 8880, 9570, 10260, 10950, 11640, 12330\n",
      "        ]"
     ],
     "language": "python",
     "metadata": {},
     "outputs": [],
     "prompt_number": 2
    },
    {
     "cell_type": "code",
     "collapsed": false,
     "input": [
      "def reactor(filename):\n",
      "    tail, _ = os.path.splitext(os.path.basename(filename))\n",
      "    i = o_rxtrs.index(tail)\n",
      "    # Make dict so label_data func is clearer:\n",
      "    rxtr_info = [rxtrs['ReactorType'][i], rxtrs['Enrichment'][i]]\n",
      "    return rxtr_info\n",
      "\n",
      "def format_df(filename):\n",
      "    data = pd.read_csv(filename).T\n",
      "    data.columns = data.iloc[0]\n",
      "    data.drop(data.index[0], inplace=True)\n",
      "    data.reset_index(inplace=True)\n",
      "    return data\n",
      "\n",
      "def label_data(label, data):\n",
      "    col = len(data.columns)\n",
      "    data.insert(loc = col, column = 'ReactorType', value = label[0])\n",
      "    data.insert(loc = col+1, column = 'Enrichment', value = label[1])\n",
      "    return data\n",
      "\n",
      "def split_train(trainXY):\n",
      "    x = len(trainXY.columns)-2\n",
      "    y = x\n",
      "    trainX = trainXY.iloc[:, 6:x]\n",
      "    trainY = trainXY.iloc[:, y]\n",
      "    return trainX, trainY"
     ],
     "language": "python",
     "metadata": {},
     "outputs": [],
     "prompt_number": 13
    },
    {
     "cell_type": "code",
     "collapsed": false,
     "input": [
      "# Training Dataset\n",
      "## Still need to filter for top 200 nuclides\n",
      "\n",
      "datapath = \"../origen/origen-data/training/9may2017/csv/\"\n",
      "all_files = glob.glob(os.path.join(datapath, \"*.csv\"))\n",
      "all_data = []\n",
      "for f in all_files:\n",
      "    data = format_df(f)\n",
      "    label = reactor(f)\n",
      "    labeled = label_data(label, data)\n",
      "    all_data.append(labeled)\n",
      "trainXY = pd.concat(all_data)\n",
      "trainX, trainY = split_train(trainXY)\n",
      "\n",
      "#################################################\n",
      "### TODO: might need to remove all the 0 steps###\n",
      "#################################################"
     ],
     "language": "python",
     "metadata": {},
     "outputs": [],
     "prompt_number": 14
    },
    {
     "cell_type": "code",
     "collapsed": false,
     "input": [],
     "language": "python",
     "metadata": {},
     "outputs": [],
     "prompt_number": 23
    },
    {
     "cell_type": "code",
     "collapsed": false,
     "input": [
      "# L1 norm is Manhattan Distance\n",
      "# L2 norm is Euclidian Distance \n",
      "# Ridge Regression is Linear + L2 regularization\n",
      "l1nn = NearestNeighbors(metric='l1', p=1)\n",
      "l2nn = NearestNeighbors(metric='l2', p=2)\n",
      "rr = RidgeClassifier()\n",
      "l1nn.fit(trainX, trainY)\n",
      "l2nn.fit(trainX, trainY)\n",
      "rr.fit(trainX, trainY)"
     ],
     "language": "python",
     "metadata": {},
     "outputs": []
    },
    {
     "cell_type": "code",
     "collapsed": false,
     "input": [
      "# Get testing data (in the form of testX and testY)\n",
      "\n",
      "predict1 = l1nn.predict(testX)\n",
      "predict2 = l2nn.predict(testX)\n",
      "predict3 = rr.predict(testX)\n",
      "\n",
      "y=testY.values.T.tolist()\n",
      "real = y[0]"
     ],
     "language": "python",
     "metadata": {},
     "outputs": []
    },
    {
     "cell_type": "code",
     "collapsed": false,
     "input": [
      "# Get errors\n",
      "counter = 0\n",
      "for i in range(0,len(predict1)):\n",
      "    if(predict1[i] == 0):\n",
      "        counter += 1\n",
      "    else:\n",
      "        sum_l1nn1 += math.fabs(real[i]-predict1[i])/real[i]\n",
      "        sum_l1nn2 += math.pow((real[i]-predict1[i]),2)\n",
      "        sum_l2nn1 += math.fabs(real[i]-predict2[i])/real[i]\n",
      "        sum_l2nn2 += math.pow(real[i]-predict2[i],2)\n",
      "        sum_rr1 += math.fabs(real[i]-predict3[i])/real[i]\n",
      "        sum_rr2 += math.pow(real[i]-predict3[i],2)\n",
      "\n",
      "MAPE_l1nn = sum_l1nn1/(len(predict1)-counter)\n",
      "RMSE_l1nn = math.sqrt(sum_l1nn2/len(predict1))\n",
      "MAPE_l2nn = sum_l2nn1/(len(predict2)-counter)\n",
      "RMSE_l2nn = math.sqrt(sum_l2nn2/len(predict2))\n",
      "MAPE_rr = sum_rr1/(len(predict3)-counter)\n",
      "RMSE_rr = math.sqrt(sum_rr2/len(predict3))"
     ],
     "language": "python",
     "metadata": {},
     "outputs": []
    }
   ],
   "metadata": {}
  }
 ]
}